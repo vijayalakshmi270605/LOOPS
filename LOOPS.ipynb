{
 "cells": [
  {
   "cell_type": "markdown",
   "id": "2c98c51e",
   "metadata": {},
   "source": [
    "# LOOPS"
   ]
  },
  {
   "cell_type": "markdown",
   "id": "65d38a99",
   "metadata": {},
   "source": [
    "# FOR LOOP"
   ]
  },
  {
   "cell_type": "code",
   "execution_count": null,
   "id": "80ff3c07",
   "metadata": {},
   "outputs": [],
   "source": [
    "for <variable> in <sequence>:\n",
    "    <statement>"
   ]
  },
  {
   "cell_type": "code",
   "execution_count": 2,
   "id": "0e2b2d02",
   "metadata": {},
   "outputs": [],
   "source": [
    "lis=[1,2,3,4,5,6]"
   ]
  },
  {
   "cell_type": "code",
   "execution_count": 4,
   "id": "5ca40da8",
   "metadata": {},
   "outputs": [
    {
     "name": "stdout",
     "output_type": "stream",
     "text": [
      "viji\n",
      "viji\n",
      "viji\n",
      "viji\n",
      "viji\n",
      "viji\n"
     ]
    }
   ],
   "source": [
    "for step in lis:\n",
    "    print('viji')\n",
    "    "
   ]
  },
  {
   "cell_type": "code",
   "execution_count": 5,
   "id": "736ac5a5",
   "metadata": {},
   "outputs": [
    {
     "name": "stdout",
     "output_type": "stream",
     "text": [
      "enter your name viji\n",
      "enter your name sri\n",
      "enter your name viji\n",
      "enter your name abi\n",
      "enter your name loop\n",
      "enter your name num\n"
     ]
    }
   ],
   "source": [
    "for step in lis:\n",
    "    input(\"enter your name \")\n",
    "    "
   ]
  },
  {
   "cell_type": "code",
   "execution_count": 6,
   "id": "878634df",
   "metadata": {},
   "outputs": [
    {
     "name": "stdout",
     "output_type": "stream",
     "text": [
      "the step is 1\n",
      "the step is 2\n",
      "the step is 3\n",
      "the step is 4\n",
      "the step is 5\n",
      "the step is 6\n"
     ]
    }
   ],
   "source": [
    "for step in lis:\n",
    "    print(f\"the step is {step}\")"
   ]
  },
  {
   "cell_type": "code",
   "execution_count": 7,
   "id": "1ece27c3",
   "metadata": {},
   "outputs": [],
   "source": [
    "PRODUCTS=[1,2,3,4,5,6,7,8,9,10,11,12,13,14,15]"
   ]
  },
  {
   "cell_type": "code",
   "execution_count": 8,
   "id": "f685103a",
   "metadata": {
    "scrolled": true
   },
   "outputs": [
    {
     "name": "stdout",
     "output_type": "stream",
     "text": [
      "enter your product name:MILK\n",
      "enter your product name:SUGAR\n",
      "enter your product name:SALT\n",
      "enter your product name:EGG\n",
      "enter your product name:NOODLE\n",
      "enter your product name:CURD\n",
      "enter your product name:TABLET\n",
      "enter your product name:TISSUE\n",
      "enter your product name:MASALA\n",
      "enter your product name:OIL\n",
      "enter your product name:SOAP\n",
      "enter your product name:LIQUID\n",
      "enter your product name:BRUSH\n",
      "enter your product name:SNACKS\n",
      "enter your product name:VEGETABLES\n"
     ]
    }
   ],
   "source": [
    "for step in PRODUCTS:\n",
    "    input(\"enter your product name:\")"
   ]
  },
  {
   "cell_type": "code",
   "execution_count": 9,
   "id": "e26c61f7",
   "metadata": {},
   "outputs": [
    {
     "name": "stdout",
     "output_type": "stream",
     "text": [
      "enter the number of items purchased:3\n",
      "enter product name:pen \n",
      "enter product name:pencil\n",
      "enter product name:eraser\n"
     ]
    }
   ],
   "source": [
    "prod_name=[]\n",
    "total_item=int(input(\"enter the number of items purchased:\"))\n",
    "for item in range(0,total_item):\n",
    "    prod_name.append(input(\"enter product name:\"))"
   ]
  },
  {
   "cell_type": "code",
   "execution_count": 10,
   "id": "93671f69",
   "metadata": {},
   "outputs": [
    {
     "data": {
      "text/plain": [
       "['pen ', 'pencil', 'eraser']"
      ]
     },
     "execution_count": 10,
     "metadata": {},
     "output_type": "execute_result"
    }
   ],
   "source": [
    "prod_name"
   ]
  },
  {
   "cell_type": "code",
   "execution_count": null,
   "id": "244f4450",
   "metadata": {},
   "outputs": [],
   "source": []
  }
 ],
 "metadata": {
  "kernelspec": {
   "display_name": "Python 3 (ipykernel)",
   "language": "python",
   "name": "python3"
  },
  "language_info": {
   "codemirror_mode": {
    "name": "ipython",
    "version": 3
   },
   "file_extension": ".py",
   "mimetype": "text/x-python",
   "name": "python",
   "nbconvert_exporter": "python",
   "pygments_lexer": "ipython3",
   "version": "3.9.17"
  }
 },
 "nbformat": 4,
 "nbformat_minor": 5
}
